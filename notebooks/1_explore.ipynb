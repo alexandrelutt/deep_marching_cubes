{
 "cells": [
  {
   "cell_type": "code",
   "execution_count": 1,
   "metadata": {},
   "outputs": [],
   "source": [
    "import os\n",
    "import numpy as np\n",
    "import trimesh\n",
    "from tqdm import tqdm"
   ]
  },
  {
   "cell_type": "code",
   "execution_count": 2,
   "metadata": {},
   "outputs": [
    {
     "name": "stderr",
     "output_type": "stream",
     "text": [
      " 51%|█████▏    | 1559/3031 [09:39<09:07,  2.69it/s]"
     ]
    },
    {
     "name": "stdout",
     "output_type": "stream",
     "text": [
      "Total number of points: 166121211\n"
     ]
    },
    {
     "name": "stderr",
     "output_type": "stream",
     "text": [
      "\n"
     ]
    }
   ],
   "source": [
    "data_dir = '../data'\n",
    "filenames = os.listdir(data_dir)\n",
    "\n",
    "N = 0\n",
    "n_samples = 0   \n",
    "for filename in tqdm(filenames):\n",
    "    if n_samples >= 1500:\n",
    "        break\n",
    "    file_path = f'../data/{filename}/models/model_normalized.obj'\n",
    "    if not os.path.exists(file_path):\n",
    "        continue\n",
    "\n",
    "    mesh = trimesh.load(file_path, force='mesh')\n",
    "    if not isinstance(mesh, trimesh.Trimesh):\n",
    "        continue\n",
    "    \n",
    "    N += mesh.vertices.shape[0]\n",
    "    n_samples += 1\n",
    "    # mesh.scene().show()\n",
    "\n",
    "print(f'Total number of points: {N}')"
   ]
  }
 ],
 "metadata": {
  "kernelspec": {
   "display_name": "venv",
   "language": "python",
   "name": "python3"
  },
  "language_info": {
   "codemirror_mode": {
    "name": "ipython",
    "version": 3
   },
   "file_extension": ".py",
   "mimetype": "text/x-python",
   "name": "python",
   "nbconvert_exporter": "python",
   "pygments_lexer": "ipython3",
   "version": "3.9.12"
  }
 },
 "nbformat": 4,
 "nbformat_minor": 2
}
