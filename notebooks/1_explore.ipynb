{
 "cells": [
  {
   "cell_type": "code",
   "execution_count": 1,
   "metadata": {},
   "outputs": [],
   "source": [
    "import os\n",
    "import numpy as np\n",
    "import trimesh\n",
    "import torch\n",
    "import sys"
   ]
  },
  {
   "cell_type": "code",
   "execution_count": 2,
   "metadata": {},
   "outputs": [],
   "source": [
    "data_dir = '../data/car'\n",
    "filenames = os.listdir(data_dir)\n",
    "# filename = filenames[0]\n",
    "\n",
    "# N = 0\n",
    "# n_samples = 0   \n",
    "# for filename in tqdm(filenames):\n",
    "#     if n_samples >= 1500:\n",
    "#         break\n",
    "#     file_path = f'../data/{filename}/models/model_normalized.obj'\n",
    "#     if not os.path.exists(file_path):\n",
    "#         continue\n",
    "\n",
    "#     mesh = trimesh.load(file_path, force='mesh')\n",
    "#     if not isinstance(mesh, trimesh.Trimesh):\n",
    "#         continue\n",
    "    \n",
    "#     N += mesh.vertices.shape[0]\n",
    "#     n_samples += 1\n",
    "#     # mesh.scene().show()\n",
    "\n",
    "# print(f'Total number of points: {N}')\n",
    "\n",
    "mesh = trimesh.load(f'{data_dir}/{filenames[0]}/models/model_normalized.obj', force='mesh')\n",
    "point_cloud = mesh.vertices"
   ]
  },
  {
   "cell_type": "code",
   "execution_count": 5,
   "metadata": {},
   "outputs": [],
   "source": [
    "sys.path.append('../scripts')\n",
    "import grid\n",
    "\n",
    "feature_extractor = grid.FeatureExtractor()\n",
    "\n",
    "point_cloud_tensor = torch.tensor(point_cloud)[None, :, :].float()\n",
    "features = feature_extractor(point_cloud_tensor)\n",
    "output_grid = grid.GridPooling.apply(point_cloud_tensor, features)"
   ]
  }
 ],
 "metadata": {
  "kernelspec": {
   "display_name": "venv",
   "language": "python",
   "name": "python3"
  },
  "language_info": {
   "codemirror_mode": {
    "name": "ipython",
    "version": 3
   },
   "file_extension": ".py",
   "mimetype": "text/x-python",
   "name": "python",
   "nbconvert_exporter": "python",
   "pygments_lexer": "ipython3",
   "version": "3.9.12"
  }
 },
 "nbformat": 4,
 "nbformat_minor": 2
}
