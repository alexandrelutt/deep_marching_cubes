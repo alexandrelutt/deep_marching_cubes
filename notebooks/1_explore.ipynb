{
 "cells": [
  {
   "cell_type": "code",
   "execution_count": 1,
   "metadata": {},
   "outputs": [],
   "source": [
    "import numpy as np\n",
    "import torch\n",
    "import sys"
   ]
  },
  {
   "cell_type": "code",
   "execution_count": 2,
   "metadata": {},
   "outputs": [],
   "source": [
    "def write_obj(vertices, output_obj_path='../outputs/output.obj'):\n",
    "    with open(output_obj_path, 'w') as obj_file:\n",
    "        for vertex in vertices:\n",
    "            obj_file.write(f'v {vertex[0]} {vertex[1]} {vertex[2]}\\n')\n",
    "\n",
    "    print(f'OBJ file saved to {output_obj_path}')"
   ]
  },
  {
   "cell_type": "code",
   "execution_count": 3,
   "metadata": {},
   "outputs": [
    {
     "data": {
      "text/plain": [
       "torch.Size([8, 3000, 3])"
      ]
     },
     "execution_count": 3,
     "metadata": {},
     "output_type": "execute_result"
    }
   ],
   "source": [
    "train_data = np.load('../all_data/points_shapenet_32x32x32_train.npy')\n",
    "batch_size = 8\n",
    "\n",
    "sample_batch = train_data[:batch_size, :, :]\n",
    "sample_batch = torch.tensor(sample_batch).float()\n",
    "sample_batch.shape"
   ]
  },
  {
   "cell_type": "code",
   "execution_count": 7,
   "metadata": {},
   "outputs": [],
   "source": [
    "sys.path.append('../code')\n",
    "import model\n",
    "\n",
    "DMC = model.RawDeepMarchingCube()\n",
    "\n",
    "offset, topology, occupancy = DMC(sample_batch)"
   ]
  },
  {
   "cell_type": "code",
   "execution_count": 9,
   "metadata": {},
   "outputs": [],
   "source": [
    "import torch.nn as nn\n",
    "\n",
    "_fake_offset = torch.zeros_like(offset).sum(1).sum(1).sum(1)\n",
    "_offset = offset.sum(1).sum(1).sum(1)\n",
    "\n",
    "class MeshLoss(nn.modules.loss._Loss):\n",
    "    def __init__(self):\n",
    "        super(MeshLoss, self).__init__()\n",
    "\n",
    "    def forward(self, input, target):\n",
    "        return torch.nn.MSELoss()(input, target)\n",
    "    \n",
    "myLoss = MeshLoss()\n",
    "loss_offset = myLoss(_fake_offset, _offset)\n",
    "loss_offset.backward()"
   ]
  }
 ],
 "metadata": {
  "kernelspec": {
   "display_name": "venv",
   "language": "python",
   "name": "python3"
  },
  "language_info": {
   "codemirror_mode": {
    "name": "ipython",
    "version": 3
   },
   "file_extension": ".py",
   "mimetype": "text/x-python",
   "name": "python",
   "nbconvert_exporter": "python",
   "pygments_lexer": "ipython3",
   "version": "3.9.12"
  }
 },
 "nbformat": 4,
 "nbformat_minor": 2
}
