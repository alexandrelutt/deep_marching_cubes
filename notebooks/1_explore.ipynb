{
 "cells": [
  {
   "cell_type": "code",
   "execution_count": 1,
   "metadata": {},
   "outputs": [],
   "source": [
    "import os\n",
    "import numpy as np\n",
    "import trimesh\n",
    "from functools import wraps\n",
    "from time import time\n",
    "\n",
    "from torch.utils.cpp_extension import load\n",
    "GPooling = load(name=\"grid_pooling\", sources=[\"../cpp_files/grid_pooling.cpp\"])\n",
    "\n",
    "def timing(f):\n",
    "    @wraps(f)\n",
    "    def wrap(*args, **kw):\n",
    "        t0 = time()\n",
    "        result = f(*args, **kw)\n",
    "        t1 = time()\n",
    "        print(f\"--- Function '{f.__name__}' took {t1-t0:.2f}s to run ---\")\n",
    "        return result\n",
    "    return wrap"
   ]
  },
  {
   "cell_type": "code",
   "execution_count": 2,
   "metadata": {},
   "outputs": [],
   "source": [
    "data_dir = '../data/car'\n",
    "filenames = os.listdir(data_dir)\n",
    "# filename = filenames[0]\n",
    "\n",
    "# N = 0\n",
    "# n_samples = 0   \n",
    "# for filename in tqdm(filenames):\n",
    "#     if n_samples >= 1500:\n",
    "#         break\n",
    "#     file_path = f'../data/{filename}/models/model_normalized.obj'\n",
    "#     if not os.path.exists(file_path):\n",
    "#         continue\n",
    "\n",
    "#     mesh = trimesh.load(file_path, force='mesh')\n",
    "#     if not isinstance(mesh, trimesh.Trimesh):\n",
    "#         continue\n",
    "    \n",
    "#     N += mesh.vertices.shape[0]\n",
    "#     n_samples += 1\n",
    "#     # mesh.scene().show()\n",
    "\n",
    "# print(f'Total number of points: {N}')"
   ]
  },
  {
   "cell_type": "code",
   "execution_count": 3,
   "metadata": {},
   "outputs": [],
   "source": [
    "mesh = trimesh.load(f'{data_dir}/{filenames[0]}/models/model_normalized.obj', force='mesh')\n",
    "point_cloud = mesh.vertices"
   ]
  },
  {
   "cell_type": "code",
   "execution_count": 4,
   "metadata": {},
   "outputs": [],
   "source": [
    "import torch\n",
    "import torch.nn as nn\n",
    "import torch.nn.functional as F\n",
    "\n",
    "class FeatureExtractor(nn.Module):\n",
    "    def __init__(self, n_features_in=3, n_features_hid=256, n_features_out=16):\n",
    "        super(FeatureExtractor, self).__init__()\n",
    "\n",
    "        self.n_features_in = n_features_in\n",
    "        self.n_features_hid = n_features_hid\n",
    "        self.n_features_out = n_features_out\n",
    "\n",
    "        self.conv1 = torch.nn.Conv1d(n_features_in, n_features_hid, 1)\n",
    "        self.conv2 = torch.nn.Conv1d(n_features_hid, n_features_out, 1)\n",
    "\n",
    "    def forward(self, point_cloud):\n",
    "        point_cloud = point_cloud.transpose(2, 1)\n",
    "        point_cloud = F.relu(self.conv1(point_cloud))\n",
    "        features = self.conv2(point_cloud)\n",
    "        features = features.transpose(1, 2)\n",
    "        return features\n",
    "    \n",
    "@timing\n",
    "def grid_pooling(point_cloud, point_features_map, N=32):\n",
    "    return GPooling.grid_pooling(point_cloud, point_features_map, N)"
   ]
  },
  {
   "cell_type": "code",
   "execution_count": 5,
   "metadata": {},
   "outputs": [
    {
     "name": "stdout",
     "output_type": "stream",
     "text": [
      "Point cloud shape: torch.Size([1, 75468, 3])\n",
      "Feature maps shape: torch.Size([1, 75468, 16])\n",
      "--- Function 'grid_pooling' took 0.75s to run ---\n",
      "Grid shape: torch.Size([1, 32, 32, 32, 16])\n"
     ]
    }
   ],
   "source": [
    "feature_extractor = FeatureExtractor()\n",
    "\n",
    "with torch.no_grad():\n",
    "    point_cloud_tensor = torch.tensor(point_cloud)[None, :, :].float()\n",
    "    print(f'Point cloud shape: {point_cloud_tensor.shape}')\n",
    "    features = feature_extractor(point_cloud_tensor)\n",
    "    print(f'Feature maps shape: {features.shape}')\n",
    "    grid = grid_pooling(point_cloud_tensor, features, N=32)\n",
    "    print(f'Grid shape: {grid.shape}')"
   ]
  }
 ],
 "metadata": {
  "kernelspec": {
   "display_name": "venv",
   "language": "python",
   "name": "python3"
  },
  "language_info": {
   "codemirror_mode": {
    "name": "ipython",
    "version": 3
   },
   "file_extension": ".py",
   "mimetype": "text/x-python",
   "name": "python",
   "nbconvert_exporter": "python",
   "pygments_lexer": "ipython3",
   "version": "3.9.12"
  }
 },
 "nbformat": 4,
 "nbformat_minor": 2
}
